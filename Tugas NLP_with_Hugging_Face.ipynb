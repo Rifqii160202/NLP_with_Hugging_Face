{
 "cells": [
  {
   "cell_type": "markdown",
   "metadata": {
    "id": "CztodpmQM11q"
   },
   "source": [
    "# Let's try HuggingFace Transformers NLP Pipelines!\n"
   ]
  },
  {
   "cell_type": "code",
   "execution_count": null,
   "metadata": {
    "id": "6dtAhiTAMmYN"
   },
   "outputs": [],
   "source": [
    "!pip install transformers"
   ]
  },
  {
   "cell_type": "code",
   "execution_count": null,
   "metadata": {
    "id": "w3g0V_WTMpwB"
   },
   "outputs": [],
   "source": [
    "from transformers import pipeline\n",
    "\n",
    "classifier = pipeline(\"zero-shot-classification\")\n",
    "classifier(\n",
    "    \"Barcelona adalah klub sepak bola dari spanyol\",\n",
    "    candidate_labels=['olahraga'],\n",
    ")"
   ]
  },
  {
   "cell_type": "code",
   "execution_count": null,
   "metadata": {
    "id": "iMxLGaXEehDl"
   },
   "outputs": [],
   "source": [
    "from transformers import pipeline\n",
    "\n",
    "classifier = pipeline(\"zero-shot-classification\")\n",
    "classifier(\n",
    "    \"Perusahaan tesla membuat robot bernama optimus\",\n",
    "    candidate_labels=['Teknologi','Education'],\n",
    ")"
   ]
  },
  {
   "cell_type": "code",
   "execution_count": null,
   "metadata": {
    "id": "jXpng5rlgVDS"
   },
   "outputs": [],
   "source": [
    "from transformers import pipeline\n",
    "\n",
    "classifier = pipeline(\"zero-shot-classification\")\n",
    "classifier(\n",
    "    \"We are learning about Natural Language Processing with Hugging Face Transformer\",\n",
    "    candidate_labels=['education'],\n",
    ")"
   ]
  },
  {
   "cell_type": "code",
   "execution_count": null,
   "metadata": {
    "id": "Qwkn1wZaNCxn"
   },
   "outputs": [],
   "source": [
    "from transformers import pipeline\n",
    "\n",
    "generator = pipeline(\"text-generation\")\n",
    "generator(\"In this course, we will teach you how to\")"
   ]
  },
  {
   "cell_type": "code",
   "execution_count": null,
   "metadata": {
    "id": "drVV_RinNMws"
   },
   "outputs": [],
   "source": [
    "from transformers import pipeline\n",
    "\n",
    "generator = pipeline(\"text-generation\", model=\"distilgpt2\")\n",
    "generator(\n",
    "    \"In this course, we will teach you how to\",\n",
    "    max_length=30,\n",
    "    num_return_sequences=2,\n",
    ")"
   ]
  },
  {
   "cell_type": "code",
   "execution_count": null,
   "metadata": {
    "id": "pv7R-U_gmGxF"
   },
   "outputs": [],
   "source": [
    "from transformers import pipeline\n",
    "\n",
    "generator = pipeline(\"text-generation\", model=\"distilgpt2\")\n",
    "generator(\"In this Hugging Face course, Miss Belgis will teach us about\")"
   ]
  },
  {
   "cell_type": "code",
   "execution_count": null,
   "metadata": {
    "id": "-Ab97He7Dd0k"
   },
   "outputs": [],
   "source": [
    "from transformers import pipeline\n",
    "\n",
    "unmasker = pipeline(\"fill-mask\")\n",
    "unmasker(\"This course will teach you all about <mask> models.\", top_k=2)"
   ]
  },
  {
   "cell_type": "code",
   "execution_count": null,
   "metadata": {
    "id": "H-uxwPRKDhpB"
   },
   "outputs": [],
   "source": [
    "from transformers import pipeline\n",
    "\n",
    "ner = pipeline(\"ner\", grouped_entities=True)\n",
    "ner(\"My name is Rifqi and I work at Hugging Face in Brooklyn.\")"
   ]
  },
  {
   "cell_type": "code",
   "execution_count": null,
   "metadata": {
    "id": "1SbkDlwfDlF5"
   },
   "outputs": [],
   "source": [
    "from transformers import pipeline\n",
    "\n",
    "qa_pipeline = pipeline(\"question-answering\", model=\"distilbert-base-cased-distilled-squad\")\n",
    "context = \"Air adalah zat cair yang penting bagi kehidupan di Bumi. Terdiri dari molekul H₂O (dua atom hidrogen dan satu atom oksigen), air tidak memiliki warna, rasa, atau bau dalam bentuk murninya.\"\n",
    "question = \"Apa itu air?\"\n",
    "\n",
    "result = qa_pipeline(question=question, context=context)\n",
    "print(f\"Jawaban: {result['answer']}\")"
   ]
  },
  {
   "cell_type": "code",
   "execution_count": null,
   "metadata": {
    "id": "8Y1wD47GplfT"
   },
   "outputs": [],
   "source": [
    "from transformers import pipeline\n",
    "\n",
    "qa_pipeline = pipeline(\"question-answering\", model=\"distilbert-base-cased-distilled-squad\")\n",
    "context = \"indonesia adalah negara kepulauan terbesar di dunia, terkenal dengan keanekaragaman budaya, bahasa, dan alamnya yang menakjubkan. Kaya akan tradisi, rempah-rempah, serta pemandangan.\"\n",
    "question = \"Indonesia adalah?\"\n",
    "\n",
    "result = qa_pipeline(question=question, context=context)\n",
    "print(f\"Jawaban: {result['answer']}\")"
   ]
  },
  {
   "cell_type": "code",
   "execution_count": null,
   "metadata": {
    "id": "U3IZcIeAE41r"
   },
   "outputs": [],
   "source": [
    "from transformers import pipeline\n",
    "\n",
    "classifier = pipeline(\"sentiment-analysis\")\n",
    "classifier(\"The model was so great! I think I'm going to choose other\")"
   ]
  },
  {
   "cell_type": "code",
   "execution_count": null,
   "metadata": {
    "id": "rXSjHIImDptH"
   },
   "outputs": [],
   "source": [
    "from transformers import pipeline\n",
    "\n",
    "summarizer = pipeline(\"summarization\")\n",
    "summarizer(\n",
    "    \"\"\"\n",
    "    America has changed dramatically during recent years. Not only has the number of\n",
    "    graduates in traditional engineering disciplines such as mechanical, civil,\n",
    "    electrical, chemical, and aeronautical engineering declined, but in most of\n",
    "    the premier American universities engineering curricula now concentrate on\n",
    "    and encourage largely the study of engineering science. As a result, there\n",
    "    are declining offerings in engineering subjects dealing with infrastructure,\n",
    "    the environment, and related issues, and greater concentration on high\n",
    "    technology subjects, largely supporting increasingly complex scientific\n",
    "    developments. While the latter is important, it should not be at the expense\n",
    "    of more traditional engineering.\n",
    "\n",
    "    Rapidly developing economies such as China and India, as well as other\n",
    "    industrial countries in Europe and Asia, continue to encourage and advance\n",
    "    the teaching of engineering. Both China and India, respectively, graduate\n",
    "    six and eight times as many traditional engineers as does the United States.\n",
    "    Other industrial countries at minimum maintain their output, while America\n",
    "    suffers an increasingly serious decline in the number of engineering graduates\n",
    "    and a lack of well-educated engineers.\n",
    "\"\"\"\n",
    ")"
   ]
  },
  {
   "cell_type": "code",
   "execution_count": null,
   "metadata": {
    "id": "Wxr6a3YYDtmL"
   },
   "outputs": [],
   "source": [
    "from transformers import pipeline\n",
    "\n",
    "translator = pipeline(\"translation\", model=\"Helsinki-NLP/opus-mt-id-en\")\n",
    "\n",
    "text_to_translate = \"aku ingin jogging hari ini\"\n",
    "result = translator(text_to_translate)\n",
    "\n",
    "print(result[0]['translation_text'])"
   ]
  },
  {
   "cell_type": "markdown",
   "metadata": {
    "id": "EhBylKTd2eqY"
   },
   "source": [
    "Zero-shot classification dalam contoh ini bertujuan untuk mengklasifikasikan pernyataan \"Barcelona adalah klub sepak bola dari Spanyol\" dengan label kandidat \"olahraga.\" Teknik zero-shot ini memungkinkan model untuk memprediksi kategori atau konteks teks meskipun tidak pernah dibor secara khusus pada teks atau kategori tersebut sebelumnya. Dengan menganalisis makna dalam kalimat, model diharapkan mampu memahami bahwa pernyataan tersebut berkaitan dengan sepak bola dan, secara lebih luas, dengan topik \"olahraga.\" Jika berhasil, model akan memberikan skor probabilitas tinggi pada label \"olahraga,\" yang menunjukkan pemahaman kontekstual yang baik terhadap kalimat tersebut. Teknik ini bermanfaat dalam aplikasi praktis yang membutuhkan klasifikasi cepat untuk berbagai kategori yang dinamis tanpa memerlukan pelatihan ulang."
   ]
  },
  {
   "cell_type": "markdown",
   "metadata": {
    "id": "ZfUk1VX75x1V"
   },
   "source": [
    "Analisis kode yang Anda berikan mengenai penggunaan pipeline untuk Question Answering.\n",
    "\n",
    "1. Pemahaman Konsep Menjawab Pertanyaan\n",
    "Question Answering (QA) adalah salah satu tugas dalam pemrosesan bahasa alami (NLP) di mana sistem dirancang untuk memberikan jawaban terhadap pertanyaan yang dikirimkan berdasarkan konteks yang diberikan. Dalam hal ini, model dilabel untuk memahami konteks dan mengidentifikas\n",
    "\n",
    "2. Mekanisme Kerja\n",
    "Proses dalam kode Anda melibatkan beberapa langkah:\n",
    "\n",
    "Pipa Impor :pipelinedari perpustakaantransformersuntuk membu\n",
    "Inisialisasi Pipeline : `qa_pipqa_pipeline = pipeline(\"question-answering\", model=\"distilbert-base-cased-distilled-squad\")menginisialisasi pertanyaan.\n",
    "Mendefinisikan Konteks dan Pertanyaan : Konteks dan question sehingga membac pola dan mendapatkan jawaban yang relevan.\n",
    "Mengambil Jawaban : `hasil = qresult = qa_pipeline(question=question, context=context)memanggil pipa de\n",
    "Menampilkan Jawaban : `prprint(f\"Jawaban: {result['answer']}\")"
   ]
  },
  {
   "cell_type": "markdown",
   "metadata": {
    "id": "AdrqPpFk68L_"
   },
   "source": [
    "Analisis kode yang Anda berikan mengenai penggunaan pipeline untuk terjemahan teks dengan model Helsinki-NLP dapat dilakukan melalui beberapa aspek, termasuk pemahaman konsep, mekanisme kerja, keunggulan dan kelemahan, serta penerapan praktis.\n",
    "\n",
    "1. Pemahaman Konsep Terjemahan Teks\n",
    "Terjemahan teks adalah proses menerjemahkan konten dari satu bahasa ke bahasa lain dengan mempertahankan makna aslinya. Dalam konteks ini, pipeline yang digunakan memungkinkan pengguna untuk menerjemahkan kalimat dari Bahasa Indonesia ke Bahasa Inggris dengan menggunakan model pembelajaran mesin yang telah dilatih untuk tugas ini.\n",
    "\n",
    "2. Mekanisme Kerja\n",
    "Proses dalam kode Anda melibatkan langkah-langkah berikut:\n",
    "\n",
    "a. Import Pipeline: Mengimpor fungsi pipeline dari pustaka transformers, yang memungkinkan akses mudah ke model terjemahan yang telah dilatih.\n",
    "\n",
    "b. Inisialisasi Pipeline: translator = pipeline(\"translation\", model=\"Helsinki-NLP/opus-mt-id-en\") menginisialisasi pipeline terjemahan menggunakan model spesifik dari Helsinki-NLP yang dirancang untuk menerjemahkan teks dari Bahasa Indonesia (ID) ke Bahasa Inggris (EN).\n",
    "\n",
    "c. Mendefinisikan Teks yang Akan Diterjemahkan: Teks yang ingin diterjemahkan didefinisikan dalam variabel text_to_translate, dalam hal ini \"aku ingin jogging hari ini\".\n",
    "\n",
    "d. Melakukan Terjemahan: result = translator(text_to_translate) memanggil pipeline dengan teks yang ditentukan, dan model kemudian memproses input untuk menghasilkan terjemahan.\n",
    "\n",
    "e. Menampilkan Hasil Terjemahan: print(result[0]['translation_text']) mencetak teks terjemahan yang diperoleh dari model, yang merupakan output dari proses terjemahan.\n",
    "\n",
    "3. Keunggulan\n",
    "\n",
    "a. Akurasi dan Kualitas: Model Helsinki-NLP terkenal dengan kualitas terjemahan yang baik, berkat pelatihan pada dataset besar yang mencakup berbagai bahasa.\n",
    "\n",
    "b. Kecepatan dan Efisiensi: Dengan menggunakan model yang sudah dilatih, proses terjemahan dapat dilakukan dengan cepat, memungkinkan integrasi dalam aplikasi waktu nyata seperti chatbot atau aplikasi terjemahan.\n",
    "\n",
    "c. Kemudahan Penggunaan: Hanya dengan beberapa baris kode, pengguna dapat menerjemahkan teks tanpa perlu memahami detail teknis dari model pembelajaran mesin yang digunakan."
   ]
  }
 ],
 "metadata": {
  "colab": {
   "provenance": []
  },
  "kernelspec": {
   "display_name": "Python 3",
   "name": "python3"
  },
  "language_info": {
   "name": "python"
  }
 },
 "nbformat": 4,
 "nbformat_minor": 0
}
